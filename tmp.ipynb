{
 "cells": [
  {
   "cell_type": "code",
   "execution_count": 1,
   "metadata": {},
   "outputs": [
    {
     "name": "stdout",
     "output_type": "stream",
     "text": [
      "<?xml version=\"1.0\" ?>\n",
      "<sections>\n",
      "\t<product name=\"Geeks for Geeks\">\n",
      "\t\t<subproduct/>\n",
      "\t</product>\n",
      "</sections>\n",
      "\n"
     ]
    }
   ],
   "source": [
    "from xml.dom import minidom\n",
    "\n",
    "root = minidom.Document()\n",
    "xml = root.createElement(\"sections\")\n",
    "root.appendChild(xml)\n",
    "\n",
    "productChild = root.createElement(\"product\")\n",
    "productChild.setAttribute(\"name\", \"Geeks for Geeks\")\n",
    "subproductChild = root.createElement(\"subproduct\")\n",
    "productChild.appendChild(subproductChild)\n",
    "\n",
    "xml.appendChild(productChild)\n",
    "\n",
    "xml_str = root.toprettyxml(indent=\"\\t\")\n",
    "print(root.toprettyxml(indent=\"\\t\"))"
   ]
  },
  {
   "cell_type": "code",
   "execution_count": 6,
   "metadata": {},
   "outputs": [
    {
     "name": "stdout",
     "output_type": "stream",
     "text": [
      "<?xml version=\"1.0\" ?>\n",
      "<sections id=\"sections\">\n",
      "\t<section name=\"in progress\">\n",
      "\t\t<Hakuna Matata name=\"Hakuna Matata\" description=\"\" comment=\"\" deadline=\"\"/>\n",
      "\t\t<abc name=\"abc\" description=\"\" comment=\"\" deadline=\"\"/>\n",
      "\t</section>\n",
      "\t<section name=\"done\"/>\n",
      "</sections>\n",
      "\n",
      "==============\n",
      "<?xml version=\"1.0\" ?>\n",
      "<sections id=\"sections\">\n",
      "\t<section name=\"in progress\">\n",
      "\t\t<abc name=\"abc\" description=\"\" comment=\"\" deadline=\"\"/>\n",
      "\t</section>\n",
      "\t<section name=\"done\"/>\n",
      "</sections>\n",
      "\n"
     ]
    }
   ],
   "source": [
    "from typing import Optional\n",
    "from xml.dom import minidom\n",
    "from pydantic import BaseModel\n",
    "from datetime import date\n",
    "\n",
    "\n",
    "class Section(BaseModel):\n",
    "    name: str\n",
    "\n",
    "\n",
    "class Mark(BaseModel):\n",
    "    name: str\n",
    "    description: Optional[str] = None\n",
    "    comment: Optional[str] = None\n",
    "    deadline: Optional[date] = None\n",
    "\n",
    "\n",
    "class KanbanBoard:\n",
    "    def __init__(self, root: Optional[str] = None) -> None:\n",
    "        if root:\n",
    "            self.root = minidom.parseString(root)\n",
    "        else:\n",
    "            self.root = minidom.Document()\n",
    "            element = self.root.createElement(\"sections\")\n",
    "            element.setAttribute(\"id\", \"sections\")\n",
    "            element.setIdAttribute(\"id\")\n",
    "            self.root.appendChild(element)            \n",
    "\n",
    "        self.sections = self.root.getElementById(\"sections\")\n",
    "\n",
    "    def add_section(self, section: Section):\n",
    "        element = self.root.createElement(\"section\")\n",
    "        element.setAttribute(\"name\", section.name)\n",
    "        # todo: raise alredy exist\n",
    "        element.setIdAttribute(\"name\")\n",
    "        self.sections.appendChild(element)\n",
    "\n",
    "    def remove_section(self, section_name: str):\n",
    "        section = self.root.getElementById(section_name)\n",
    "        # todo: raise alredy exist\n",
    "        self.sections.removeChild(section)\n",
    "\n",
    "    def add_mark(self, section_name: str, mark: Mark):\n",
    "        section = self.root.getElementById(section_name)\n",
    "        element = self.root.createElement(mark.name)\n",
    "        # todo: raise alredy exist\n",
    "        element.setAttribute(\"name\", mark.name)\n",
    "        element.setIdAttribute(\"name\")\n",
    "        element.setAttribute(\"description\", mark.description)\n",
    "        element.setAttribute(\"comment\", mark.comment)\n",
    "        element.setAttribute(\"deadline\", mark.deadline)\n",
    "        section.appendChild(element)\n",
    "\n",
    "    def remove_mark(self, section_name: str, mark: Mark):\n",
    "        section = self.root.getElementById(section_name)\n",
    "        # todo: raise alredy exist\n",
    "        mark = self.root.getElementById(mark.name)\n",
    "        section.removeChild(mark)\n",
    "\n",
    "    def move_mark_to_another_section(self, move_from: str, move_to: str, mark: Mark):\n",
    "        self.remove_mark(move_from, mark)\n",
    "        self.add_mark(move_to, mark)\n",
    "\n",
    "    def __str__(self) -> str:\n",
    "        return self.root.toprettyxml(indent=\"\\t\")\n",
    "\n",
    "\n",
    "board = KanbanBoard()\n",
    "board.add_section(Section(name=\"in progress\"))\n",
    "board.add_mark(\"in progress\", Mark(name=\"Hakuna Matata\"))\n",
    "board.add_mark(\"in progress\", Mark(name=\"abc\"))\n",
    "board.add_section(Section(name=\"done\"))\n",
    "print(board)\n",
    "print(\"==============\")\n",
    "board.remove_mark(\"in progress\", Mark(name=\"Hakuna Matata\"))\n",
    "print(board)"
   ]
  },
  {
   "cell_type": "code",
   "execution_count": 34,
   "metadata": {},
   "outputs": [
    {
     "data": {
      "text/plain": [
       "'Dsadsaas'"
      ]
     },
     "execution_count": 34,
     "metadata": {},
     "output_type": "execute_result"
    }
   ],
   "source": [
    "a = Section(name=\"Dsadsaas\")\n",
    "a.name"
   ]
  },
  {
   "cell_type": "code",
   "execution_count": null,
   "metadata": {},
   "outputs": [],
   "source": []
  }
 ],
 "metadata": {
  "kernelspec": {
   "display_name": "main",
   "language": "python",
   "name": "python3"
  },
  "language_info": {
   "codemirror_mode": {
    "name": "ipython",
    "version": 3
   },
   "file_extension": ".py",
   "mimetype": "text/x-python",
   "name": "python",
   "nbconvert_exporter": "python",
   "pygments_lexer": "ipython3",
   "version": "0.0.0"
  }
 },
 "nbformat": 4,
 "nbformat_minor": 2
}
